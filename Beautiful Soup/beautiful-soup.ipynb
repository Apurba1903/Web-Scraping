{
 "cells": [
  {
   "cell_type": "markdown",
   "id": "a22b3cf4-31bf-4aa4-85da-b2b8f13e9408",
   "metadata": {},
   "source": [
    "## 1. Imports"
   ]
  },
  {
   "cell_type": "code",
   "execution_count": 1,
   "id": "3545ef3e-0865-438b-8ed0-467741147767",
   "metadata": {},
   "outputs": [],
   "source": [
    "from bs4 import BeautifulSoup"
   ]
  },
  {
   "cell_type": "markdown",
   "id": "a3559498-f893-4c75-89ba-ced34aecbcc3",
   "metadata": {},
   "source": [
    "## 2. Create a `soup` object"
   ]
  },
  {
   "cell_type": "code",
   "execution_count": 2,
   "id": "5bc40fd3-145f-4905-8f13-f3601e16c400",
   "metadata": {},
   "outputs": [],
   "source": [
    "with open(\"html-doc.html\") as file:\n",
    "    soup = BeautifulSoup(file, \"lxml\")"
   ]
  },
  {
   "cell_type": "code",
   "execution_count": 3,
   "id": "640dc85e-e0fc-4b6e-8d47-f344d96f39bd",
   "metadata": {},
   "outputs": [
    {
     "data": {
      "text/plain": [
       "bs4.BeautifulSoup"
      ]
     },
     "execution_count": 3,
     "metadata": {},
     "output_type": "execute_result"
    }
   ],
   "source": [
    "type(soup)"
   ]
  },
  {
   "cell_type": "markdown",
   "id": "83345ffd-bab4-440b-bf56-aa9c23eea78b",
   "metadata": {},
   "source": [
    "## 3. Basics of the `soup` object\n",
    "\n",
    "- `prettify()`\n",
    "- individual tags:\n",
    "    - `title`\n",
    "    - `a`\n",
    "    - `p`\n",
    "- `text`\n",
    "- `name`\n",
    "- `parent`\n",
    "- `children`\n",
    "- `descendants`\n",
    "- `get_text()`\n",
    "- `find()`\n",
    "- `find_all()`\n",
    "- `get()` / square bracket notation"
   ]
  },
  {
   "cell_type": "code",
   "execution_count": 4,
   "id": "e2897cae-c0de-428e-8289-99e04f1ec575",
   "metadata": {},
   "outputs": [
    {
     "name": "stdout",
     "output_type": "stream",
     "text": [
      "<html>\n",
      " <head>\n",
      "  <title>\n",
      "   The BUBT's story\n",
      "  </title>\n",
      " </head>\n",
      " <body>\n",
      "  <p class=\"title\">\n",
      "   <b>\n",
      "    The BUBT's story\n",
      "   </b>\n",
      "  </p>\n",
      "  <p class=\"story\">\n",
      "   Once upon a time there were three friends; and their names were\n",
      "   <a class=\"friend\" href=\"http://example.com/elsie\" id=\"link1\">\n",
      "    Tahjib\n",
      "   </a>\n",
      "   ,\n",
      "   <a class=\"friend\" href=\"http://example.com/lacie\" id=\"link2\">\n",
      "    Tanzim\n",
      "   </a>\n",
      "   and\n",
      "   <a class=\"friend\" href=\"http://example.com/tillie\" id=\"link3\">\n",
      "    Apurba\n",
      "   </a>\n",
      "   ;\n",
      "and they talked about their life's problems in Stairs.\n",
      "  </p>\n",
      "  <p class=\"story\">\n",
      "   ...\n",
      "  </p>\n",
      " </body>\n",
      "</html>\n",
      "\n"
     ]
    }
   ],
   "source": [
    "# Prettify\n",
    "\n",
    "print(soup.prettify())"
   ]
  },
  {
   "cell_type": "code",
   "execution_count": 5,
   "id": "eb472da8-1cdd-4c72-a716-9d203e464f25",
   "metadata": {},
   "outputs": [
    {
     "data": {
      "text/plain": [
       "<title>The BUBT's story</title>"
      ]
     },
     "execution_count": 5,
     "metadata": {},
     "output_type": "execute_result"
    }
   ],
   "source": [
    "soup.title"
   ]
  },
  {
   "cell_type": "code",
   "execution_count": 6,
   "id": "541a7174-589f-4d3b-aef4-ec7048480647",
   "metadata": {},
   "outputs": [
    {
     "data": {
      "text/plain": [
       "<a class=\"friend\" href=\"http://example.com/elsie\" id=\"link1\">Tahjib</a>"
      ]
     },
     "execution_count": 6,
     "metadata": {},
     "output_type": "execute_result"
    }
   ],
   "source": [
    "soup.a"
   ]
  },
  {
   "cell_type": "code",
   "execution_count": 7,
   "id": "251fbfa8-2306-47ba-bc6c-005e4f46e90c",
   "metadata": {},
   "outputs": [
    {
     "data": {
      "text/plain": [
       "<p class=\"title\"><b>The BUBT's story</b></p>"
      ]
     },
     "execution_count": 7,
     "metadata": {},
     "output_type": "execute_result"
    }
   ],
   "source": [
    "soup.p"
   ]
  },
  {
   "cell_type": "code",
   "execution_count": 8,
   "id": "5b74fb2c-da1b-4376-bcda-4c568f38d6aa",
   "metadata": {},
   "outputs": [
    {
     "data": {
      "text/plain": [
       "\"The BUBT's story\""
      ]
     },
     "execution_count": 8,
     "metadata": {},
     "output_type": "execute_result"
    }
   ],
   "source": [
    "# Text\n",
    "\n",
    "soup.title.text"
   ]
  },
  {
   "cell_type": "code",
   "execution_count": 9,
   "id": "64cae7ce-78d1-4e75-ae26-70f2c55a3b7b",
   "metadata": {},
   "outputs": [
    {
     "data": {
      "text/plain": [
       "\"THE BUBT'S STORY\""
      ]
     },
     "execution_count": 9,
     "metadata": {},
     "output_type": "execute_result"
    }
   ],
   "source": [
    "soup.title.text.upper()"
   ]
  },
  {
   "cell_type": "code",
   "execution_count": 10,
   "id": "c9f304bc-5a33-486b-9131-ed481926c9a6",
   "metadata": {},
   "outputs": [
    {
     "data": {
      "text/plain": [
       "\"the bubt's story\""
      ]
     },
     "execution_count": 10,
     "metadata": {},
     "output_type": "execute_result"
    }
   ],
   "source": [
    "soup.title.text.lower()"
   ]
  },
  {
   "cell_type": "code",
   "execution_count": 11,
   "id": "b913f2ab-a70d-4f00-a51b-2b1a8329e486",
   "metadata": {},
   "outputs": [
    {
     "data": {
      "text/plain": [
       "['The', \"BUBT's\", 'story']"
      ]
     },
     "execution_count": 11,
     "metadata": {},
     "output_type": "execute_result"
    }
   ],
   "source": [
    "soup.title.text.split()"
   ]
  },
  {
   "cell_type": "code",
   "execution_count": 12,
   "id": "b5f93778-ab84-4b84-a2b8-f245b1256d57",
   "metadata": {},
   "outputs": [
    {
     "data": {
      "text/plain": [
       "'title'"
      ]
     },
     "execution_count": 12,
     "metadata": {},
     "output_type": "execute_result"
    }
   ],
   "source": [
    "# Name\n",
    "\n",
    "soup.title.name"
   ]
  },
  {
   "cell_type": "code",
   "execution_count": 13,
   "id": "2e6eb994-1387-430f-a5c5-7d25163c64dc",
   "metadata": {},
   "outputs": [
    {
     "data": {
      "text/plain": [
       "<head><title>The BUBT's story</title></head>"
      ]
     },
     "execution_count": 13,
     "metadata": {},
     "output_type": "execute_result"
    }
   ],
   "source": [
    "# Parent\n",
    "\n",
    "soup.title.parent"
   ]
  },
  {
   "cell_type": "code",
   "execution_count": 14,
   "id": "2c0e54ee-aae9-4b6d-95d2-014e27a00056",
   "metadata": {},
   "outputs": [
    {
     "data": {
      "text/plain": [
       "<html><head><title>The BUBT's story</title></head>\n",
       "<body>\n",
       "<p class=\"title\"><b>The BUBT's story</b></p>\n",
       "<p class=\"story\">Once upon a time there were three friends; and their names were\n",
       "<a class=\"friend\" href=\"http://example.com/elsie\" id=\"link1\">Tahjib</a>,\n",
       "<a class=\"friend\" href=\"http://example.com/lacie\" id=\"link2\">Tanzim</a> and\n",
       "<a class=\"friend\" href=\"http://example.com/tillie\" id=\"link3\">Apurba</a>;\n",
       "and they talked about their life's problems in Stairs.</p>\n",
       "<p class=\"story\">...</p></body></html>"
      ]
     },
     "execution_count": 14,
     "metadata": {},
     "output_type": "execute_result"
    }
   ],
   "source": [
    "soup.title.parent.parent"
   ]
  },
  {
   "cell_type": "code",
   "execution_count": 15,
   "id": "64f0978e-ff6a-4d72-b64d-0fbac9ac270a",
   "metadata": {},
   "outputs": [
    {
     "data": {
      "text/plain": [
       "<list_iterator at 0x24833dd6da0>"
      ]
     },
     "execution_count": 15,
     "metadata": {},
     "output_type": "execute_result"
    }
   ],
   "source": [
    "# Children\n",
    "\n",
    "soup.body.children"
   ]
  },
  {
   "cell_type": "code",
   "execution_count": 16,
   "id": "2385cc8b-ab53-467d-a4d3-d46d3c46d216",
   "metadata": {},
   "outputs": [
    {
     "name": "stdout",
     "output_type": "stream",
     "text": [
      "\n",
      "\n",
      "<p class=\"title\"><b>The BUBT's story</b></p>\n",
      "\n",
      "\n",
      "<p class=\"story\">Once upon a time there were three friends; and their names were\n",
      "<a class=\"friend\" href=\"http://example.com/elsie\" id=\"link1\">Tahjib</a>,\n",
      "<a class=\"friend\" href=\"http://example.com/lacie\" id=\"link2\">Tanzim</a> and\n",
      "<a class=\"friend\" href=\"http://example.com/tillie\" id=\"link3\">Apurba</a>;\n",
      "and they talked about their life's problems in Stairs.</p>\n",
      "\n",
      "\n",
      "<p class=\"story\">...</p>\n"
     ]
    }
   ],
   "source": [
    "for child in soup.body.children:\n",
    "    print(child)"
   ]
  },
  {
   "cell_type": "code",
   "execution_count": 17,
   "id": "c61b2719-561f-460c-8a78-2bb201736695",
   "metadata": {},
   "outputs": [
    {
     "name": "stdout",
     "output_type": "stream",
     "text": [
      "<title>The BUBT's story</title>\n"
     ]
    }
   ],
   "source": [
    "for child in soup.head.children:\n",
    "    print(child)"
   ]
  },
  {
   "cell_type": "code",
   "execution_count": 18,
   "id": "54b0c9c1-8a30-4a59-8002-1e1fb6d58582",
   "metadata": {},
   "outputs": [
    {
     "data": {
      "text/plain": [
       "<generator object Tag.descendants at 0x0000024833D79C40>"
      ]
     },
     "execution_count": 18,
     "metadata": {},
     "output_type": "execute_result"
    }
   ],
   "source": [
    "# Descendants\n",
    "\n",
    "soup.body.descendants"
   ]
  },
  {
   "cell_type": "code",
   "execution_count": 19,
   "id": "3c581e08-0e51-4465-aff0-d766a7c10788",
   "metadata": {
    "scrolled": true
   },
   "outputs": [
    {
     "name": "stdout",
     "output_type": "stream",
     "text": [
      "\n",
      "\n",
      "<p class=\"title\"><b>The BUBT's story</b></p>\n",
      "<b>The BUBT's story</b>\n",
      "The BUBT's story\n",
      "\n",
      "\n",
      "<p class=\"story\">Once upon a time there were three friends; and their names were\n",
      "<a class=\"friend\" href=\"http://example.com/elsie\" id=\"link1\">Tahjib</a>,\n",
      "<a class=\"friend\" href=\"http://example.com/lacie\" id=\"link2\">Tanzim</a> and\n",
      "<a class=\"friend\" href=\"http://example.com/tillie\" id=\"link3\">Apurba</a>;\n",
      "and they talked about their life's problems in Stairs.</p>\n",
      "Once upon a time there were three friends; and their names were\n",
      "\n",
      "<a class=\"friend\" href=\"http://example.com/elsie\" id=\"link1\">Tahjib</a>\n",
      "Tahjib\n",
      ",\n",
      "\n",
      "<a class=\"friend\" href=\"http://example.com/lacie\" id=\"link2\">Tanzim</a>\n",
      "Tanzim\n",
      " and\n",
      "\n",
      "<a class=\"friend\" href=\"http://example.com/tillie\" id=\"link3\">Apurba</a>\n",
      "Apurba\n",
      ";\n",
      "and they talked about their life's problems in Stairs.\n",
      "\n",
      "\n",
      "<p class=\"story\">...</p>\n",
      "...\n"
     ]
    }
   ],
   "source": [
    "for descendant in soup.body.descendants:\n",
    "    print(descendant)"
   ]
  },
  {
   "cell_type": "code",
   "execution_count": 20,
   "id": "97596e2f-dd81-4038-8d61-4af668c1bc0b",
   "metadata": {},
   "outputs": [
    {
     "data": {
      "text/plain": [
       "\"\\nThe BUBT's story\\nOnce upon a time there were three friends; and their names were\\nTahjib,\\nTanzim and\\nApurba;\\nand they talked about their life's problems in Stairs.\\n...\""
      ]
     },
     "execution_count": 20,
     "metadata": {},
     "output_type": "execute_result"
    }
   ],
   "source": [
    "# get_text()\n",
    "\n",
    "soup.body.get_text()"
   ]
  },
  {
   "cell_type": "code",
   "execution_count": 21,
   "id": "db68958e-256f-45fd-836f-d5865f860e37",
   "metadata": {},
   "outputs": [
    {
     "name": "stdout",
     "output_type": "stream",
     "text": [
      "The BUBT's story\n",
      "Once upon a time there were three friends; and their names were\n",
      "Tahjib,\n",
      "Tanzim and\n",
      "Apurba;\n",
      "and they talked about their life's problems in Stairs.\n",
      "...\n"
     ]
    }
   ],
   "source": [
    "print(soup.body.get_text().strip())"
   ]
  },
  {
   "cell_type": "code",
   "execution_count": 22,
   "id": "af121508-9d89-4f4a-861f-a69d17e7e337",
   "metadata": {},
   "outputs": [
    {
     "data": {
      "text/plain": [
       "\"The BUBT's story\""
      ]
     },
     "execution_count": 22,
     "metadata": {},
     "output_type": "execute_result"
    }
   ],
   "source": [
    "soup.title.get_text()"
   ]
  },
  {
   "cell_type": "code",
   "execution_count": 23,
   "id": "a308bc04-82aa-4e74-a226-a7e716410863",
   "metadata": {},
   "outputs": [
    {
     "data": {
      "text/plain": [
       "<a class=\"friend\" href=\"http://example.com/elsie\" id=\"link1\">Tahjib</a>"
      ]
     },
     "execution_count": 23,
     "metadata": {},
     "output_type": "execute_result"
    }
   ],
   "source": [
    "# find\n",
    "\n",
    "soup.a"
   ]
  },
  {
   "cell_type": "code",
   "execution_count": 24,
   "id": "febb74ec-562f-4b89-b8b2-1f7f5ddcafcc",
   "metadata": {},
   "outputs": [
    {
     "data": {
      "text/plain": [
       "<a class=\"friend\" href=\"http://example.com/elsie\" id=\"link1\">Tahjib</a>"
      ]
     },
     "execution_count": 24,
     "metadata": {},
     "output_type": "execute_result"
    }
   ],
   "source": [
    "soup.find('a')"
   ]
  },
  {
   "cell_type": "code",
   "execution_count": 25,
   "id": "3da0b36c-b565-4dc0-bdbd-528cc15b8e1d",
   "metadata": {},
   "outputs": [
    {
     "data": {
      "text/plain": [
       "[<a class=\"friend\" href=\"http://example.com/elsie\" id=\"link1\">Tahjib</a>,\n",
       " <a class=\"friend\" href=\"http://example.com/lacie\" id=\"link2\">Tanzim</a>,\n",
       " <a class=\"friend\" href=\"http://example.com/tillie\" id=\"link3\">Apurba</a>]"
      ]
     },
     "execution_count": 25,
     "metadata": {},
     "output_type": "execute_result"
    }
   ],
   "source": [
    "# find_all()\n",
    "\n",
    "soup.find_all('a')"
   ]
  },
  {
   "cell_type": "code",
   "execution_count": 26,
   "id": "a531cc02-aad6-41dc-80e1-44c3816c6344",
   "metadata": {},
   "outputs": [
    {
     "data": {
      "text/plain": [
       "bs4.element.ResultSet"
      ]
     },
     "execution_count": 26,
     "metadata": {},
     "output_type": "execute_result"
    }
   ],
   "source": [
    "type(soup.find_all('a'))"
   ]
  },
  {
   "cell_type": "code",
   "execution_count": 30,
   "id": "af256386-8975-44c0-84bc-f8a14f895181",
   "metadata": {},
   "outputs": [
    {
     "data": {
      "text/plain": [
       "['friend']"
      ]
     },
     "execution_count": 30,
     "metadata": {},
     "output_type": "execute_result"
    }
   ],
   "source": [
    "# get()\n",
    "\n",
    "soup.a['class']"
   ]
  },
  {
   "cell_type": "code",
   "execution_count": 31,
   "id": "e714d67d-55cd-44db-93f3-bb0397bef166",
   "metadata": {},
   "outputs": [
    {
     "data": {
      "text/plain": [
       "['friend']"
      ]
     },
     "execution_count": 31,
     "metadata": {},
     "output_type": "execute_result"
    }
   ],
   "source": [
    "soup.a.get('class')"
   ]
  },
  {
   "cell_type": "code",
   "execution_count": 32,
   "id": "cb374d1a-7bae-4059-8acd-153f6ddcf070",
   "metadata": {},
   "outputs": [
    {
     "data": {
      "text/plain": [
       "'http://example.com/elsie'"
      ]
     },
     "execution_count": 32,
     "metadata": {},
     "output_type": "execute_result"
    }
   ],
   "source": [
    "soup.a.get('href')"
   ]
  },
  {
   "cell_type": "code",
   "execution_count": null,
   "id": "c0de18ef",
   "metadata": {},
   "outputs": [],
   "source": []
  }
 ],
 "metadata": {
  "kernelspec": {
   "display_name": "WebScraping",
   "language": "python",
   "name": "python3"
  },
  "language_info": {
   "codemirror_mode": {
    "name": "ipython",
    "version": 3
   },
   "file_extension": ".py",
   "mimetype": "text/x-python",
   "name": "python",
   "nbconvert_exporter": "python",
   "pygments_lexer": "ipython3",
   "version": "3.11.5"
  }
 },
 "nbformat": 4,
 "nbformat_minor": 5
}
