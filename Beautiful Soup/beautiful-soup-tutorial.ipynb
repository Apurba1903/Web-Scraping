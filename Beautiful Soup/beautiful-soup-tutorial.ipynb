{
 "cells": [
  {
   "cell_type": "markdown",
   "id": "a22b3cf4-31bf-4aa4-85da-b2b8f13e9408",
   "metadata": {},
   "source": [
    "## 1. Imports"
   ]
  },
  {
   "cell_type": "code",
   "execution_count": null,
   "id": "3545ef3e-0865-438b-8ed0-467741147767",
   "metadata": {},
   "outputs": [],
   "source": []
  },
  {
   "cell_type": "markdown",
   "id": "a3559498-f893-4c75-89ba-ced34aecbcc3",
   "metadata": {},
   "source": [
    "## 2. Create a `soup` object"
   ]
  },
  {
   "cell_type": "code",
   "execution_count": null,
   "id": "5bc40fd3-145f-4905-8f13-f3601e16c400",
   "metadata": {},
   "outputs": [],
   "source": []
  },
  {
   "cell_type": "code",
   "execution_count": null,
   "id": "640dc85e-e0fc-4b6e-8d47-f344d96f39bd",
   "metadata": {},
   "outputs": [],
   "source": []
  },
  {
   "cell_type": "markdown",
   "id": "83345ffd-bab4-440b-bf56-aa9c23eea78b",
   "metadata": {},
   "source": [
    "## 3. Basics of the `soup` object\n",
    "\n",
    "- `prettify()`\n",
    "- individual tags:\n",
    "    - `title`\n",
    "    - `a`\n",
    "    - `p`\n",
    "- `text`\n",
    "- `name`\n",
    "- `parent`\n",
    "- `children`\n",
    "- `descendants`\n",
    "- `get_text()`\n",
    "- `find()`\n",
    "- `find_all()`\n",
    "- `get()` / square bracket notation"
   ]
  },
  {
   "cell_type": "code",
   "execution_count": null,
   "id": "e2897cae-c0de-428e-8289-99e04f1ec575",
   "metadata": {},
   "outputs": [],
   "source": []
  },
  {
   "cell_type": "code",
   "execution_count": null,
   "id": "eb472da8-1cdd-4c72-a716-9d203e464f25",
   "metadata": {},
   "outputs": [],
   "source": []
  },
  {
   "cell_type": "code",
   "execution_count": null,
   "id": "541a7174-589f-4d3b-aef4-ec7048480647",
   "metadata": {},
   "outputs": [],
   "source": []
  },
  {
   "cell_type": "code",
   "execution_count": null,
   "id": "251fbfa8-2306-47ba-bc6c-005e4f46e90c",
   "metadata": {},
   "outputs": [],
   "source": []
  },
  {
   "cell_type": "code",
   "execution_count": null,
   "id": "5b74fb2c-da1b-4376-bcda-4c568f38d6aa",
   "metadata": {},
   "outputs": [],
   "source": []
  },
  {
   "cell_type": "code",
   "execution_count": null,
   "id": "64cae7ce-78d1-4e75-ae26-70f2c55a3b7b",
   "metadata": {},
   "outputs": [],
   "source": []
  },
  {
   "cell_type": "code",
   "execution_count": null,
   "id": "c9f304bc-5a33-486b-9131-ed481926c9a6",
   "metadata": {},
   "outputs": [],
   "source": []
  },
  {
   "cell_type": "code",
   "execution_count": null,
   "id": "b913f2ab-a70d-4f00-a51b-2b1a8329e486",
   "metadata": {},
   "outputs": [],
   "source": []
  },
  {
   "cell_type": "code",
   "execution_count": null,
   "id": "b5f93778-ab84-4b84-a2b8-f245b1256d57",
   "metadata": {},
   "outputs": [],
   "source": []
  },
  {
   "cell_type": "code",
   "execution_count": null,
   "id": "2e6eb994-1387-430f-a5c5-7d25163c64dc",
   "metadata": {},
   "outputs": [],
   "source": []
  },
  {
   "cell_type": "code",
   "execution_count": null,
   "id": "2c0e54ee-aae9-4b6d-95d2-014e27a00056",
   "metadata": {},
   "outputs": [],
   "source": []
  },
  {
   "cell_type": "code",
   "execution_count": null,
   "id": "64f0978e-ff6a-4d72-b64d-0fbac9ac270a",
   "metadata": {},
   "outputs": [],
   "source": []
  },
  {
   "cell_type": "code",
   "execution_count": null,
   "id": "2385cc8b-ab53-467d-a4d3-d46d3c46d216",
   "metadata": {},
   "outputs": [],
   "source": []
  },
  {
   "cell_type": "code",
   "execution_count": null,
   "id": "c61b2719-561f-460c-8a78-2bb201736695",
   "metadata": {},
   "outputs": [],
   "source": []
  },
  {
   "cell_type": "code",
   "execution_count": null,
   "id": "54b0c9c1-8a30-4a59-8002-1e1fb6d58582",
   "metadata": {},
   "outputs": [],
   "source": []
  },
  {
   "cell_type": "code",
   "execution_count": null,
   "id": "3c581e08-0e51-4465-aff0-d766a7c10788",
   "metadata": {
    "scrolled": true
   },
   "outputs": [],
   "source": []
  },
  {
   "cell_type": "code",
   "execution_count": null,
   "id": "97596e2f-dd81-4038-8d61-4af668c1bc0b",
   "metadata": {},
   "outputs": [],
   "source": []
  },
  {
   "cell_type": "code",
   "execution_count": null,
   "id": "db68958e-256f-45fd-836f-d5865f860e37",
   "metadata": {},
   "outputs": [],
   "source": []
  },
  {
   "cell_type": "code",
   "execution_count": null,
   "id": "af121508-9d89-4f4a-861f-a69d17e7e337",
   "metadata": {},
   "outputs": [],
   "source": []
  },
  {
   "cell_type": "code",
   "execution_count": null,
   "id": "a308bc04-82aa-4e74-a226-a7e716410863",
   "metadata": {},
   "outputs": [],
   "source": []
  },
  {
   "cell_type": "code",
   "execution_count": null,
   "id": "febb74ec-562f-4b89-b8b2-1f7f5ddcafcc",
   "metadata": {},
   "outputs": [],
   "source": []
  },
  {
   "cell_type": "code",
   "execution_count": null,
   "id": "3da0b36c-b565-4dc0-bdbd-528cc15b8e1d",
   "metadata": {},
   "outputs": [],
   "source": []
  },
  {
   "cell_type": "code",
   "execution_count": null,
   "id": "a531cc02-aad6-41dc-80e1-44c3816c6344",
   "metadata": {},
   "outputs": [],
   "source": []
  },
  {
   "cell_type": "code",
   "execution_count": null,
   "id": "af256386-8975-44c0-84bc-f8a14f895181",
   "metadata": {},
   "outputs": [],
   "source": []
  },
  {
   "cell_type": "code",
   "execution_count": null,
   "id": "e714d67d-55cd-44db-93f3-bb0397bef166",
   "metadata": {},
   "outputs": [],
   "source": []
  },
  {
   "cell_type": "code",
   "execution_count": null,
   "id": "cb374d1a-7bae-4059-8acd-153f6ddcf070",
   "metadata": {},
   "outputs": [],
   "source": []
  },
  {
   "cell_type": "code",
   "execution_count": null,
   "id": "ea2d52d4-3477-4572-8254-6fff9b8852af",
   "metadata": {},
   "outputs": [],
   "source": []
  },
  {
   "cell_type": "code",
   "execution_count": null,
   "id": "fd3edcfd-8c02-4c4c-96bb-61beaeabd63e",
   "metadata": {},
   "outputs": [],
   "source": []
  },
  {
   "cell_type": "code",
   "execution_count": null,
   "id": "42c135f6-2638-4996-963c-89ba3326fc50",
   "metadata": {},
   "outputs": [],
   "source": []
  },
  {
   "cell_type": "code",
   "execution_count": null,
   "id": "a83ac3d2-3d94-4238-a3b1-032eeee8c618",
   "metadata": {},
   "outputs": [],
   "source": []
  },
  {
   "cell_type": "code",
   "execution_count": null,
   "id": "c46afae8-4499-4d18-909f-0bfbc4dc1731",
   "metadata": {},
   "outputs": [],
   "source": []
  },
  {
   "cell_type": "code",
   "execution_count": null,
   "id": "80ba3572-be53-45ac-8c44-c69e2045f9e7",
   "metadata": {},
   "outputs": [],
   "source": []
  },
  {
   "cell_type": "code",
   "execution_count": null,
   "id": "a6bc0536-bf08-4edb-9b8c-46842dc50594",
   "metadata": {},
   "outputs": [],
   "source": []
  },
  {
   "cell_type": "code",
   "execution_count": null,
   "id": "7c310c57-7abe-4f57-8f51-42b210d22e96",
   "metadata": {},
   "outputs": [],
   "source": []
  },
  {
   "cell_type": "code",
   "execution_count": null,
   "id": "ceccbcbe-3878-4470-884e-1f6fb957e721",
   "metadata": {},
   "outputs": [],
   "source": []
  },
  {
   "cell_type": "markdown",
   "id": "850f9f00-ee62-4fb5-9638-b939539ac740",
   "metadata": {},
   "source": [
    "## 4. Fetching webpage with `Requests`\n",
    "\n",
    "- URL: `https://www.bbc.com/sport/football/premier-league/top-scorers`"
   ]
  },
  {
   "cell_type": "code",
   "execution_count": null,
   "id": "690f3eff-4d38-467a-bb6f-670543841512",
   "metadata": {},
   "outputs": [],
   "source": []
  },
  {
   "cell_type": "code",
   "execution_count": null,
   "id": "0bce15f6-330c-41f3-be26-b974a25698c3",
   "metadata": {},
   "outputs": [],
   "source": []
  },
  {
   "cell_type": "code",
   "execution_count": null,
   "id": "142e7c61-5db0-4339-b5d3-f1217b39648b",
   "metadata": {},
   "outputs": [],
   "source": []
  },
  {
   "cell_type": "code",
   "execution_count": null,
   "id": "e65bf298-84f2-47a3-b9b8-c02093d051fa",
   "metadata": {},
   "outputs": [],
   "source": []
  },
  {
   "cell_type": "code",
   "execution_count": null,
   "id": "697cc7a4-d1d2-4e6e-854e-fedca161c46a",
   "metadata": {},
   "outputs": [],
   "source": []
  },
  {
   "cell_type": "code",
   "execution_count": null,
   "id": "f7e02a16-a28f-47b9-aedb-26179198d766",
   "metadata": {},
   "outputs": [],
   "source": []
  },
  {
   "cell_type": "code",
   "execution_count": null,
   "id": "d48f2337-bae2-4fd2-bdf3-452e45a7a48b",
   "metadata": {},
   "outputs": [],
   "source": []
  },
  {
   "cell_type": "code",
   "execution_count": null,
   "id": "e382d930-14db-4c62-a1e6-e1a14d041041",
   "metadata": {},
   "outputs": [],
   "source": []
  },
  {
   "cell_type": "markdown",
   "id": "06b86b87-d4d8-40fa-974b-f1473ff0e2e9",
   "metadata": {},
   "source": [
    "- can use either `content` or `text` attribute to create the soup object\n",
    "- with `text`, we must be certain about the encoding\n",
    "- with `content`, we let Beautiful Soup handle the encoding mostly"
   ]
  },
  {
   "cell_type": "code",
   "execution_count": null,
   "id": "e3be2d88-54eb-46d6-b66c-64c96439bf9d",
   "metadata": {},
   "outputs": [],
   "source": []
  },
  {
   "cell_type": "code",
   "execution_count": null,
   "id": "ee5ec742-72f9-4f63-a7ca-ddcceb067926",
   "metadata": {},
   "outputs": [],
   "source": []
  },
  {
   "cell_type": "markdown",
   "id": "b3f2ca71-e2f1-4f67-b0de-f48d310b47bd",
   "metadata": {},
   "source": [
    "## 5. HTML parsing with `Beautiful Soup`: A Mini Project\n",
    "\n",
    "- scrape data from a public website\n",
    "- organize the data as a dataframe\n",
    "- export the data as an excel sheet"
   ]
  },
  {
   "cell_type": "code",
   "execution_count": null,
   "id": "05c9df23-c41e-4303-a976-c591f8c654b2",
   "metadata": {},
   "outputs": [],
   "source": []
  },
  {
   "cell_type": "code",
   "execution_count": null,
   "id": "057c1261-0120-48f2-92fb-dc1bfd602cf3",
   "metadata": {},
   "outputs": [],
   "source": []
  },
  {
   "cell_type": "code",
   "execution_count": null,
   "id": "2bd95974-0c33-4f8e-96ef-ff39575a0f02",
   "metadata": {},
   "outputs": [],
   "source": []
  },
  {
   "cell_type": "code",
   "execution_count": null,
   "id": "84933f4d-7040-4595-8234-73aca9eece70",
   "metadata": {},
   "outputs": [],
   "source": []
  },
  {
   "cell_type": "code",
   "execution_count": null,
   "id": "2ae99832-7750-4a92-b436-bced7a2d6b4b",
   "metadata": {},
   "outputs": [],
   "source": []
  },
  {
   "cell_type": "code",
   "execution_count": null,
   "id": "1f2b500e-27a7-4a72-86cc-118bd6159a6a",
   "metadata": {},
   "outputs": [],
   "source": []
  }
 ],
 "metadata": {
  "kernelspec": {
   "display_name": "hands_on_ml",
   "language": "python",
   "name": "hands_on_ml"
  },
  "language_info": {
   "codemirror_mode": {
    "name": "ipython",
    "version": 3
   },
   "file_extension": ".py",
   "mimetype": "text/x-python",
   "name": "python",
   "nbconvert_exporter": "python",
   "pygments_lexer": "ipython3",
   "version": "3.11.0"
  }
 },
 "nbformat": 4,
 "nbformat_minor": 5
}
