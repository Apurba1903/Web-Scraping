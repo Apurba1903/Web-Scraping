{
 "cells": [
  {
   "cell_type": "markdown",
   "id": "6a079884-5c3d-4b93-8ed1-5cecd7c2ebf5",
   "metadata": {},
   "source": [
    "### Demo URL: `https://www.hackthissite.org/user/login`\n",
    "### Install Tesseract: `https://github.com/UB-Mannheim/tesseract/wiki`"
   ]
  },
  {
   "cell_type": "markdown",
   "id": "212c8d16-5c5f-4920-848f-0e646eba02f3",
   "metadata": {},
   "source": [
    "## Imports"
   ]
  },
  {
   "cell_type": "code",
   "execution_count": 3,
   "id": "c5411191-3de0-4321-8939-7e02bac75440",
   "metadata": {},
   "outputs": [],
   "source": [
    "import cv2\n",
    "import time\n",
    "import pytesseract\n",
    "\n",
    "import numpy as np\n",
    "\n",
    "from PIL import Image\n",
    "from selenium import webdriver\n",
    "from selenium.webdriver.common.by import By"
   ]
  },
  {
   "cell_type": "markdown",
   "id": "fed826d9-3b57-4424-b256-49a7649f9cc6",
   "metadata": {},
   "source": [
    "## 1. Using the `input()` function"
   ]
  },
  {
   "cell_type": "code",
   "execution_count": 11,
   "id": "96881ea9-e90b-478e-9729-655083086178",
   "metadata": {},
   "outputs": [
    {
     "name": "stdout",
     "output_type": "stream",
     "text": [
      "\n",
      "Captcha Completed. Script Resuming.\n"
     ]
    }
   ],
   "source": [
    "driver = webdriver.Chrome()\n",
    "driver.maximize_window()\n",
    "\n",
    "\n",
    "url = \"https://www.hackthissite.org/user/login\"\n",
    "driver.get(url)\n",
    "time.sleep(2)\n",
    "\n",
    "\n",
    "username = driver.find_element(By.ID, 'login_username')\n",
    "password = driver.find_element(By.ID, 'login_password')\n",
    "login = driver.find_element(By.XPATH, '/html/body/table/tbody/tr[2]/td/table/tbody/tr/td[2]/form/table/tbody/tr[4]/td/input')\n",
    "\n",
    "\n",
    "username.send_keys('Apurba')\n",
    "password.send_keys('kzjdbfvkbsd')\n",
    "login.click()\n",
    "\n",
    "\n",
    "captcha_xpath = '/html/body/table/tbody/tr[2]/td/table/tbody/tr/td[2]/form/table/tbody/tr[5]/td/img'\n",
    "captcha_element = driver.find_element(By.XPATH, captcha_xpath)\n",
    "\n",
    "\n",
    "if captcha_element:\n",
    "    x = input('This will pause the Script. Please solve the CAPTCHA to unpause.')\n",
    "\n",
    "\n",
    "print('\\nCaptcha Completed. Script Resuming.')\n",
    "time.sleep(1)\n",
    "\n",
    "\n",
    "driver.quit()\n",
    "\n",
    "\n",
    "# Write rest of your code here. "
   ]
  },
  {
   "cell_type": "markdown",
   "id": "239ffee9-8322-4bdd-a30a-7383d233f48e",
   "metadata": {},
   "source": [
    "## 2. Using `OpenCV`, `PIL`, `pytesseract` and `Numpy`"
   ]
  },
  {
   "cell_type": "code",
   "execution_count": 4,
   "id": "8cc335f7-54de-4eca-9013-bd32b6183384",
   "metadata": {},
   "outputs": [],
   "source": [
    "pytesseract.pytesseract.tesseract_cmd = r\"C:\\\\Program Files\\\\Tesseract-OCR\\\\tesseract.exe\""
   ]
  },
  {
   "cell_type": "code",
   "execution_count": 10,
   "id": "b58563cc-80b9-4f8b-a191-3480a4a97702",
   "metadata": {},
   "outputs": [],
   "source": [
    "driver = webdriver.Chrome()\n",
    "driver.maximize_window()\n",
    "\n",
    "\n",
    "url = \"https://www.hackthissite.org/user/login\"\n",
    "driver.get(url)\n",
    "time.sleep(2)\n",
    "\n",
    "\n",
    "username = driver.find_element(By.ID, 'login_username')\n",
    "password = driver.find_element(By.ID, 'login_password')\n",
    "login = driver.find_element(By.XPATH, '/html/body/table/tbody/tr[2]/td/table/tbody/tr/td[2]/form/table/tbody/tr[4]/td/input')\n",
    "\n",
    "\n",
    "username.send_keys('Apurba')\n",
    "password.send_keys('kzjdbfvkbsd')\n",
    "login.click()\n",
    "time.sleep(5)\n",
    "\n",
    "\n",
    "try:\n",
    "    captcha_xpath = '/html/body/table/tbody/tr[2]/td/table/tbody/tr/td[2]/form/table/tbody/tr[5]/td/img'\n",
    "    captcha_image = driver.find_element(By.XPATH, captcha_xpath)\n",
    "    driver.save_screenshot('webpage.png')\n",
    "\n",
    "\n",
    "    location = captcha_image.location\n",
    "    size = captcha_image.size\n",
    "    device_pixel_ratio = driver.execute_script(\"return window.devicePixelRatio;\")\n",
    "    x = int(location['x'] * device_pixel_ratio)\n",
    "    y = int(location['y'] * device_pixel_ratio)\n",
    "    w = int(size['width'] * device_pixel_ratio)\n",
    "    h = int(size['height'] * device_pixel_ratio)\n",
    "\n",
    "\n",
    "    img = Image.open('webpage.png')\n",
    "    captcha_image = img.crop((x, y, x+w, y+h))\n",
    "    captcha_image.save('captcha.png')\n",
    "\n",
    "\n",
    "\n",
    "\n",
    "\n",
    "\n",
    "except Exception as e:\n",
    "    pass\n",
    "\n",
    "\n",
    "finally:\n",
    "    time.sleep(2)\n",
    "    driver.quit()\n",
    "\n"
   ]
  },
  {
   "cell_type": "code",
   "execution_count": null,
   "id": "2832a55e",
   "metadata": {},
   "outputs": [],
   "source": []
  }
 ],
 "metadata": {
  "kernelspec": {
   "display_name": "Python 3",
   "language": "python",
   "name": "python3"
  },
  "language_info": {
   "codemirror_mode": {
    "name": "ipython",
    "version": 3
   },
   "file_extension": ".py",
   "mimetype": "text/x-python",
   "name": "python",
   "nbconvert_exporter": "python",
   "pygments_lexer": "ipython3",
   "version": "3.11.5"
  }
 },
 "nbformat": 4,
 "nbformat_minor": 5
}
