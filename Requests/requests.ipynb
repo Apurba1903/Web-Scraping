{
 "cells": [
  {
   "cell_type": "markdown",
   "id": "598f6c8a-4b4e-484b-b77c-fea9bb811bab",
   "metadata": {},
   "source": [
    "## 1. Imports"
   ]
  },
  {
   "cell_type": "code",
   "execution_count": 1,
   "id": "e2e6d523-6a61-414e-ac6a-93fd52c40709",
   "metadata": {},
   "outputs": [],
   "source": [
    "import requests"
   ]
  },
  {
   "cell_type": "markdown",
   "id": "69e87acf-f0f4-4800-ac75-b9f864070a4e",
   "metadata": {},
   "source": [
    "## 2. Version"
   ]
  },
  {
   "cell_type": "code",
   "execution_count": 2,
   "id": "291db94d-4152-41bf-9248-01ef8608fa78",
   "metadata": {},
   "outputs": [
    {
     "name": "stdout",
     "output_type": "stream",
     "text": [
      "2.32.3\n"
     ]
    }
   ],
   "source": [
    "print(requests.__version__)"
   ]
  },
  {
   "cell_type": "markdown",
   "id": "ca388c2c-e39f-488c-b33a-497f0293e8ef",
   "metadata": {},
   "source": [
    "## 3. GET"
   ]
  },
  {
   "cell_type": "markdown",
   "id": "45180677-0a50-4db0-bd6c-1b3d493ffc9a",
   "metadata": {},
   "source": [
    "### 3.1\n",
    "\n",
    "- send a request to GitHub API and printing the response\n",
    "- print the status code and the contents\n",
    "- GitHub API: `https://api.github.com`"
   ]
  },
  {
   "cell_type": "code",
   "execution_count": 3,
   "id": "97d0772c-4a71-4560-ac76-4f4603289d74",
   "metadata": {},
   "outputs": [],
   "source": [
    "uri = \"https://api.github.com\"\n",
    "response = requests.get(uri)"
   ]
  },
  {
   "cell_type": "code",
   "execution_count": 4,
   "id": "8290bd3b-f104-4637-80d3-8193a0371ced",
   "metadata": {},
   "outputs": [
    {
     "data": {
      "text/plain": [
       "<Response [200]>"
      ]
     },
     "execution_count": 4,
     "metadata": {},
     "output_type": "execute_result"
    }
   ],
   "source": [
    "response"
   ]
  },
  {
   "cell_type": "code",
   "execution_count": 5,
   "id": "2c91836b-0f72-43e1-9e21-edfc2a2f2477",
   "metadata": {},
   "outputs": [
    {
     "data": {
      "text/plain": [
       "200"
      ]
     },
     "execution_count": 5,
     "metadata": {},
     "output_type": "execute_result"
    }
   ],
   "source": [
    "response.status_code"
   ]
  },
  {
   "cell_type": "code",
   "execution_count": 14,
   "id": "ccbead4f-3687-4994-891d-7a2fb6316a43",
   "metadata": {},
   "outputs": [
    {
     "data": {
      "text/plain": [
       "b'{\"current_user_url\":\"https://api.github.com/user\",\"current_user_authorizations_html_url\":\"https://github.com/settings/connections/applications{/client_id}\",\"authorizations_url\":\"https://api.github.com/authorizations\",\"code_search_url\":\"https://api.github.com/search/code?q={query}{&page,per_page,sort,order}\",\"commit_search_url\":\"https://api.github.com/search/commits?q={query}{&page,per_page,sort,order}\",\"emails_url\":\"https://api.github.com/user/emails\",\"emojis_url\":\"https://api.github.com/emojis\",\"events_url\":\"https://api.github.com/events\",\"feeds_url\":\"https://api.github.com/feeds\",\"followers_url\":\"https://api.github.com/user/followers\",\"following_url\":\"https://api.github.com/user/following{/target}\",\"gists_url\":\"https://api.github.com/gists{/gist_id}\",\"hub_url\":\"https://api.github.com/hub\",\"issue_search_url\":\"https://api.github.com/search/issues?q={query}{&page,per_page,sort,order}\",\"issues_url\":\"https://api.github.com/issues\",\"keys_url\":\"https://api.github.com/user/keys\",\"label_searc'"
      ]
     },
     "execution_count": 14,
     "metadata": {},
     "output_type": "execute_result"
    }
   ],
   "source": [
    "response.content[:1000]"
   ]
  },
  {
   "cell_type": "markdown",
   "id": "87caff0e-803f-45a9-b51b-85af481ff8b4",
   "metadata": {},
   "source": [
    "### 3.2\n",
    "\n",
    "- use query parameters in a GET message\n",
    "- search for all GitHub repositories that contain the word `requests` and the main language used is `python`\n",
    "- GitHub repository search API: `https://api.github.com/search/repositories`"
   ]
  },
  {
   "cell_type": "code",
   "execution_count": 22,
   "id": "789d0d9f-31f7-4502-b1be-e1ddc79d9a64",
   "metadata": {},
   "outputs": [],
   "source": [
    "uri = \"https://api.github.com/search/repositories\""
   ]
  },
  {
   "cell_type": "code",
   "execution_count": 33,
   "id": "ced36ab1-476c-455a-9a33-716e6172d2d7",
   "metadata": {},
   "outputs": [],
   "source": [
    "params = {\n",
    "    \"q\" : \"mlops+language:python\"\n",
    "}"
   ]
  },
  {
   "cell_type": "code",
   "execution_count": 34,
   "id": "9b719cbb-4f56-48a2-a55e-419e0e4424e3",
   "metadata": {},
   "outputs": [],
   "source": [
    "response = requests.get(uri, params=params)"
   ]
  },
  {
   "cell_type": "code",
   "execution_count": 35,
   "id": "68599b99-12bc-458c-86ab-add688e697fb",
   "metadata": {},
   "outputs": [
    {
     "data": {
      "text/plain": [
       "200"
      ]
     },
     "execution_count": 35,
     "metadata": {},
     "output_type": "execute_result"
    }
   ],
   "source": [
    "response.status_code"
   ]
  },
  {
   "cell_type": "code",
   "execution_count": 36,
   "id": "aaf7d1a5-99d3-4d8b-93f8-39d8927116b5",
   "metadata": {},
   "outputs": [
    {
     "data": {
      "text/plain": [
       "b'{\"total_count\":4,\"incomplete_results\":false,\"items\":[{\"id\":530146934,\"node_id\":\"R_kgDOH5lmdg\",\"name\":\"Amit-AI-\",\"full_name\":\"emanahmed2014/Amit-AI-\",\"private\":false,\"owner\":{\"login\":\"emanahmed2014\",\"id\":11407448,\"node_id\":\"MDQ6VXNlcjExNDA3NDQ4\",\"avatar_url\":\"https://avatars.githubusercontent.com/u/11407448?v=4\",\"gravatar_id\":\"\",\"url\":\"https://api.github.com/users/emanahmed2014\",\"html_url\":\"https://github.com/emanahmed2014\",\"followers_url\":\"https://api.github.com/users/emanahmed2014/followers\",\"following_url\":\"https://api.github.com/users/emanahmed2014/following{/other_user}\",\"gists_url\":\"https://api.github.com/users/emanahmed2014/gists{/gist_id}\",\"starred_url\":\"https://api.github.com/users/emanahmed2014/starred{/owner}{/repo}\",\"subscriptions_url\":\"https://api.github.com/users/emanahmed2014/subscriptions\",\"organizations_url\":\"https://api.github.com/users/emanahmed2014/orgs\",\"repos_url\":\"https://api.github.com/users/emanahmed2014/repos\",\"events_url\":\"https://api.github.com/users/emanahmed2014/events{/privacy}\",\"received_events_url\":\"https://api.github.com/users/emanahmed2014/received_events\",\"type\":\"User\",\"user_view_type\":\"public\",\"site_admin\":false},\"html_url\":\"https://github.com/emanahmed2014/Amit-AI-\",\"description\":\"AI including: Python, Data Scince, Machine Learning, Deep learning, Natural Languages Processing, and MLOPs   \",\"fork\":false,\"url\":\"https://api.github.com/repos/emanahmed2014/Amit-AI-\",\"forks_url\":\"https://api.github.com/repos/emanahmed2014/Amit-AI-/forks\",\"keys_url\":\"https://api.github.com/repos/emanahmed2014/Amit-AI-/keys{/key_id}\",\"collaborators_url\":\"https://api.github.com/repos/emanahmed2014/Amit-AI-/collaborators{/collaborator}\",\"teams_url\":\"https://api.github.com/repos/emanahmed2014/Amit-AI-/teams\",\"hooks_url\":\"https://api.github.com/repos/emanahmed2014/Amit-AI-/hooks\",\"issue_events_url\":\"https://api.github.com/repos/emanahmed2014/Amit-AI-/issues/events{/number}\",\"events_url\":\"https://api.github.com/repos/emanahmed2014/Amit-AI-/events\",\"assignees'"
      ]
     },
     "execution_count": 36,
     "metadata": {},
     "output_type": "execute_result"
    }
   ],
   "source": [
    "response.content[:2000]"
   ]
  },
  {
   "cell_type": "markdown",
   "id": "4e8df9fd-14b0-402a-b082-40442c26f1aa",
   "metadata": {},
   "source": [
    "## 4. POST"
   ]
  },
  {
   "cell_type": "code",
   "execution_count": null,
   "id": "e82d8a2e-c3be-4472-a12b-cdeb40fb855c",
   "metadata": {},
   "outputs": [],
   "source": []
  },
  {
   "cell_type": "markdown",
   "id": "645baf63-4f24-4f54-96b4-4825c4cab748",
   "metadata": {},
   "source": [
    "### 4.1\n",
    "\n",
    "- send some data to a test server\n",
    "- server address: `https://httpbin.org/post`"
   ]
  },
  {
   "cell_type": "code",
   "execution_count": null,
   "id": "bb59a127-3ab1-449d-afd2-1f9ab5b1d6b7",
   "metadata": {},
   "outputs": [],
   "source": []
  },
  {
   "cell_type": "code",
   "execution_count": null,
   "id": "46db1e3f-55fa-4420-8fc6-8012ae7b6dd6",
   "metadata": {},
   "outputs": [],
   "source": []
  },
  {
   "cell_type": "code",
   "execution_count": null,
   "id": "1e4cff87-10ad-40bf-aaab-8e7e217912b1",
   "metadata": {},
   "outputs": [],
   "source": []
  },
  {
   "cell_type": "code",
   "execution_count": null,
   "id": "4a0c5820-ce7d-42a4-a481-b6a50ddb64c2",
   "metadata": {},
   "outputs": [],
   "source": []
  },
  {
   "cell_type": "code",
   "execution_count": null,
   "id": "3d81d6c3-8039-4f63-83b0-a98c45ca7cb0",
   "metadata": {},
   "outputs": [],
   "source": []
  },
  {
   "cell_type": "code",
   "execution_count": null,
   "id": "a9ece883-c3ca-4d11-8b2d-d5d1342733d2",
   "metadata": {},
   "outputs": [],
   "source": []
  },
  {
   "cell_type": "code",
   "execution_count": null,
   "id": "6fe60e3e-77e8-40bc-a5fa-68959fc87188",
   "metadata": {},
   "outputs": [],
   "source": []
  },
  {
   "cell_type": "markdown",
   "id": "f252ac8f-202f-4bdf-9d15-9ef296b42ce7",
   "metadata": {},
   "source": [
    "### 4.2\n",
    "\n",
    "- APIs usually expect data in JSON format\n",
    "- send data in JSON format using POST message"
   ]
  },
  {
   "cell_type": "code",
   "execution_count": null,
   "id": "6675b0e1-27fe-4d2c-b151-4c0c4576f847",
   "metadata": {},
   "outputs": [],
   "source": []
  },
  {
   "cell_type": "code",
   "execution_count": null,
   "id": "81cd9e85-5c78-4d01-bed4-3fc062c57e5b",
   "metadata": {},
   "outputs": [],
   "source": []
  },
  {
   "cell_type": "code",
   "execution_count": null,
   "id": "eb491008-693e-4cfc-8b9d-bfd61824c3b0",
   "metadata": {},
   "outputs": [],
   "source": []
  },
  {
   "cell_type": "code",
   "execution_count": null,
   "id": "1fb2070c-1083-43e8-b208-970470506d2c",
   "metadata": {},
   "outputs": [],
   "source": []
  },
  {
   "cell_type": "code",
   "execution_count": null,
   "id": "7104201d-15f9-4216-bf03-2e5cec5946a9",
   "metadata": {},
   "outputs": [],
   "source": []
  },
  {
   "cell_type": "code",
   "execution_count": null,
   "id": "33ab68bb-c811-4a20-8dfd-5450b01e1364",
   "metadata": {},
   "outputs": [],
   "source": []
  },
  {
   "cell_type": "markdown",
   "id": "d531f5be-1d56-430a-a3b4-859f72e6df1e",
   "metadata": {},
   "source": [
    "## 5. PUT"
   ]
  },
  {
   "cell_type": "markdown",
   "id": "059183f3-e36d-44cb-ae80-6d6e34c86ddf",
   "metadata": {},
   "source": [
    "### 5.1\n",
    "\n",
    "- use PUT method to update data\n",
    "- address: `https://httpbin.org/put`"
   ]
  },
  {
   "cell_type": "code",
   "execution_count": null,
   "id": "3f20ae39-3d27-4a06-b590-e9b046ce96a3",
   "metadata": {},
   "outputs": [],
   "source": []
  },
  {
   "cell_type": "code",
   "execution_count": null,
   "id": "bd89da44-d21e-4656-9b16-2c78583130a6",
   "metadata": {},
   "outputs": [],
   "source": []
  },
  {
   "cell_type": "code",
   "execution_count": null,
   "id": "197f80df-5613-4825-814b-d7622a8a65b3",
   "metadata": {},
   "outputs": [],
   "source": []
  },
  {
   "cell_type": "code",
   "execution_count": null,
   "id": "71f500f8-7854-46a8-82ca-47170dff9481",
   "metadata": {},
   "outputs": [],
   "source": []
  },
  {
   "cell_type": "code",
   "execution_count": null,
   "id": "bb9964d0-2226-4a14-8603-4a212bd75fde",
   "metadata": {},
   "outputs": [],
   "source": []
  },
  {
   "cell_type": "markdown",
   "id": "d811c884-6483-4e27-a23f-40859f20f4f7",
   "metadata": {},
   "source": [
    "## 6. DELETE"
   ]
  },
  {
   "cell_type": "markdown",
   "id": "346b9a3c-ef44-48ca-9ef8-dec0f62eff05",
   "metadata": {},
   "source": [
    "### 6.1\n",
    "\n",
    "- use DELETE method to delete a resource\n",
    "- address: `https://httpbin.org/delete`"
   ]
  },
  {
   "cell_type": "code",
   "execution_count": null,
   "id": "32687b9c-a33d-4fea-87ef-2f57693cdb8c",
   "metadata": {},
   "outputs": [],
   "source": []
  },
  {
   "cell_type": "code",
   "execution_count": null,
   "id": "6e074ef5-ac38-4463-a1ea-348111769883",
   "metadata": {},
   "outputs": [],
   "source": []
  },
  {
   "cell_type": "code",
   "execution_count": null,
   "id": "96601bc6-1a46-4285-a0a9-80834b9796b4",
   "metadata": {},
   "outputs": [],
   "source": []
  },
  {
   "cell_type": "code",
   "execution_count": null,
   "id": "5e1b209d-59a4-48a0-86b7-ca224bfa1630",
   "metadata": {},
   "outputs": [],
   "source": []
  },
  {
   "cell_type": "markdown",
   "id": "0c142b24-2a95-42e8-b75b-010bc1f9c3af",
   "metadata": {},
   "source": [
    "## 7. Headers\n",
    "\n",
    "- use a GET request\n",
    "- url: `https://httpbin.org/headers`"
   ]
  },
  {
   "cell_type": "code",
   "execution_count": null,
   "id": "cf11ae24-3c72-4611-8451-7eede39bc7e5",
   "metadata": {},
   "outputs": [],
   "source": []
  },
  {
   "cell_type": "code",
   "execution_count": null,
   "id": "8e294084-da3b-460d-9382-d6bfc582fc27",
   "metadata": {},
   "outputs": [],
   "source": []
  },
  {
   "cell_type": "code",
   "execution_count": null,
   "id": "5a3c3f90-87f6-41d7-ba9e-7a74c5af5ba3",
   "metadata": {},
   "outputs": [],
   "source": []
  },
  {
   "cell_type": "code",
   "execution_count": null,
   "id": "7e8856a4-b2ba-4ef6-a94b-6e63bb81fe21",
   "metadata": {},
   "outputs": [],
   "source": []
  },
  {
   "cell_type": "code",
   "execution_count": null,
   "id": "8265d8fe-1b4d-4ac3-8ae1-b11741ca12e2",
   "metadata": {},
   "outputs": [],
   "source": []
  },
  {
   "cell_type": "code",
   "execution_count": null,
   "id": "fa08c34c-ab07-4197-8f55-8536e48ae9bb",
   "metadata": {},
   "outputs": [],
   "source": []
  },
  {
   "cell_type": "code",
   "execution_count": null,
   "id": "f5c23612-4be2-4440-8dfb-db635cda21c3",
   "metadata": {},
   "outputs": [],
   "source": []
  },
  {
   "cell_type": "code",
   "execution_count": null,
   "id": "bdcb25e7-7b9f-47a2-9d94-0fa102a1f0c6",
   "metadata": {},
   "outputs": [],
   "source": []
  },
  {
   "cell_type": "code",
   "execution_count": null,
   "id": "af7825ca-837c-48eb-8000-d3e9caf86681",
   "metadata": {},
   "outputs": [],
   "source": []
  },
  {
   "cell_type": "markdown",
   "id": "6c077bf2-b4b4-4b1d-b3f2-a2de60700acd",
   "metadata": {},
   "source": [
    "## 8. Response Object\n",
    "\n",
    "- address: `https://api.github.com`\n",
    "- The most common attributes of the response object are:\n",
    "    - `status_code`: shows the HTTP status code of the request\n",
    "    - `text`: shows the content of the response as a string\n",
    "    - `content`: shows the content of the response as binary data\n",
    "    - `headers`: shows all the response headers\n",
    "    - `json()`: parse the server's response as JSON"
   ]
  },
  {
   "cell_type": "code",
   "execution_count": null,
   "id": "1aed6b0f-0194-4af8-82f7-d42d815215a4",
   "metadata": {},
   "outputs": [],
   "source": []
  },
  {
   "cell_type": "code",
   "execution_count": null,
   "id": "a0585d0f-ac05-441e-86e4-5c139e21052f",
   "metadata": {},
   "outputs": [],
   "source": []
  },
  {
   "cell_type": "code",
   "execution_count": null,
   "id": "0a686758-50dc-43a5-8662-ed3e6b39a92c",
   "metadata": {},
   "outputs": [],
   "source": []
  },
  {
   "cell_type": "code",
   "execution_count": null,
   "id": "05489fbc-2cdd-437b-ac7f-4fa4ffe48f33",
   "metadata": {},
   "outputs": [],
   "source": []
  },
  {
   "cell_type": "code",
   "execution_count": null,
   "id": "5bcee850-0576-4495-a0b2-e3057a287400",
   "metadata": {},
   "outputs": [],
   "source": []
  },
  {
   "cell_type": "code",
   "execution_count": null,
   "id": "4752538e-49ef-4eb4-9bae-1c1d7069a5ca",
   "metadata": {},
   "outputs": [],
   "source": []
  },
  {
   "cell_type": "code",
   "execution_count": null,
   "id": "c903c160-b85c-43c1-9bef-2b4031b70fa1",
   "metadata": {},
   "outputs": [],
   "source": []
  },
  {
   "cell_type": "code",
   "execution_count": null,
   "id": "cc4faf62-75ad-4dd9-a165-e98a330ac0b2",
   "metadata": {},
   "outputs": [],
   "source": []
  },
  {
   "cell_type": "code",
   "execution_count": null,
   "id": "d4f1a6d9-c95f-4da3-8278-095f7471aa1e",
   "metadata": {},
   "outputs": [],
   "source": []
  },
  {
   "cell_type": "code",
   "execution_count": null,
   "id": "4c4d0819-aaed-460a-bc01-576d6068cc6e",
   "metadata": {},
   "outputs": [],
   "source": []
  },
  {
   "cell_type": "code",
   "execution_count": null,
   "id": "d4047c6f-0a0b-4cad-b100-91d6c8bdd28a",
   "metadata": {},
   "outputs": [],
   "source": []
  },
  {
   "cell_type": "code",
   "execution_count": null,
   "id": "dd97ffa1-006c-435a-8f66-0338b4fafc30",
   "metadata": {},
   "outputs": [],
   "source": []
  },
  {
   "cell_type": "code",
   "execution_count": null,
   "id": "dfc97546-248c-4921-a96c-75d6eec4f04b",
   "metadata": {},
   "outputs": [],
   "source": []
  },
  {
   "cell_type": "code",
   "execution_count": null,
   "id": "9e46de3e-172c-4ee0-8f6a-3748b6d2de84",
   "metadata": {},
   "outputs": [],
   "source": []
  },
  {
   "cell_type": "code",
   "execution_count": null,
   "id": "ec97565c-ec15-4ae7-b253-e2550093b305",
   "metadata": {},
   "outputs": [],
   "source": []
  },
  {
   "cell_type": "markdown",
   "id": "bd19cedc-e0e6-4eac-9111-cd2d78dc20b4",
   "metadata": {},
   "source": [
    "## 9. Working with a public API\n",
    "\n",
    "- API: `https://jsonplaceholder.typicode.com/`\n",
    "- endpoint: `posts`\n",
    "- perform error handling: `raise_for_status()`"
   ]
  },
  {
   "cell_type": "code",
   "execution_count": null,
   "id": "7f66658f-57a4-4f7e-9097-e6513761bd3f",
   "metadata": {},
   "outputs": [],
   "source": []
  },
  {
   "cell_type": "markdown",
   "id": "40a7f46b-7060-45de-b416-a6ca504afc50",
   "metadata": {},
   "source": [
    "### 9.1\n",
    "\n",
    "- Make a GET request to retrieve a list of posts"
   ]
  },
  {
   "cell_type": "code",
   "execution_count": null,
   "id": "c6287d9d-1a56-4252-88ea-5d0d01095bfd",
   "metadata": {},
   "outputs": [],
   "source": []
  },
  {
   "cell_type": "markdown",
   "id": "7b5a5cc3-f89b-4d6b-80d4-ea115ed71a5f",
   "metadata": {},
   "source": [
    "### 9.2\n",
    "\n",
    "- Make a POST request to submit a post\n",
    "- include the following parameters:\n",
    "    - `title`\n",
    "    - `body`\n",
    "    - `userId` "
   ]
  },
  {
   "cell_type": "code",
   "execution_count": null,
   "id": "95d2200f-c8d9-4002-ab3b-ffc22f976cd5",
   "metadata": {},
   "outputs": [],
   "source": []
  },
  {
   "cell_type": "code",
   "execution_count": null,
   "id": "e2df9046-0087-4810-aad3-4b8783deed64",
   "metadata": {},
   "outputs": [],
   "source": []
  }
 ],
 "metadata": {
  "kernelspec": {
   "display_name": "WebScraping",
   "language": "python",
   "name": "python3"
  },
  "language_info": {
   "codemirror_mode": {
    "name": "ipython",
    "version": 3
   },
   "file_extension": ".py",
   "mimetype": "text/x-python",
   "name": "python",
   "nbconvert_exporter": "python",
   "pygments_lexer": "ipython3",
   "version": "3.11.5"
  }
 },
 "nbformat": 4,
 "nbformat_minor": 5
}
