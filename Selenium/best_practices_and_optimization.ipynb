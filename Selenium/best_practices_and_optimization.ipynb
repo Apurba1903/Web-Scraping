{
 "cells": [
  {
   "cell_type": "code",
   "execution_count": 17,
   "id": "fa4697ca",
   "metadata": {},
   "outputs": [],
   "source": [
    "import time\n",
    "from selenium import webdriver\n",
    "from selenium.webdriver.common.by import By"
   ]
  },
  {
   "cell_type": "code",
   "execution_count": 18,
   "id": "590c968e",
   "metadata": {},
   "outputs": [],
   "source": [
    "driver = webdriver.Chrome()\n",
    "driver.maximize_window()"
   ]
  },
  {
   "cell_type": "code",
   "execution_count": 19,
   "id": "18afc56f",
   "metadata": {},
   "outputs": [],
   "source": [
    "url = 'https://github.com/login'\n",
    "driver.get(url)\n",
    "time.sleep(2)"
   ]
  },
  {
   "cell_type": "code",
   "execution_count": 20,
   "id": "ace437c1",
   "metadata": {},
   "outputs": [],
   "source": [
    "# userName_field = driver.find_element(By.XPATH, '//*[@id=\"login_field\"]')\n",
    "# userName_field.send_keys(\"apurba\")"
   ]
  },
  {
   "cell_type": "code",
   "execution_count": 21,
   "id": "c57d36d7",
   "metadata": {},
   "outputs": [],
   "source": [
    "# passName_field = driver.find_element(By.XPATH, '//*[@id=\"password\"]')\n",
    "# passName_field.send_keys(\"1234\")\n",
    "# time.sleep(1)"
   ]
  },
  {
   "cell_type": "code",
   "execution_count": 22,
   "id": "8d9dae49",
   "metadata": {},
   "outputs": [],
   "source": [
    "# btn = driver.find_element(By.XPATH, '//*[@id=\"login\"]/div[4]/form/div/input[13]')\n",
    "# btn.click()"
   ]
  },
  {
   "cell_type": "code",
   "execution_count": 23,
   "id": "9791f2ea",
   "metadata": {},
   "outputs": [],
   "source": [
    "class LoginPage:\n",
    "    def __init__(self, driver):\n",
    "        self.driver = driver\n",
    "        self.username = (By.XPATH, '//*[@id=\"login_field\"]')\n",
    "        self.password = (By.XPATH, '//*[@id=\"password\"]')\n",
    "        self.btn = (By.XPATH, '//*[@id=\"login\"]/div[4]/form/div/input[13]')\n",
    "\n",
    "\n",
    "    def login(self, username, password):\n",
    "        self.driver.find_element(*self.username).send_keys(username)\n",
    "        self.driver.find_element(*self.password).send_keys(password)\n",
    "        time.sleep(1)\n",
    "        self.driver.find_element(*self.btn).click()\n",
    "\n",
    "\n",
    "login_page = LoginPage(driver)\n",
    "login_page.login(\"apurba\", \"1234\")\n",
    "time.sleep(2)"
   ]
  },
  {
   "cell_type": "code",
   "execution_count": 24,
   "id": "923610fe",
   "metadata": {},
   "outputs": [],
   "source": [
    "driver.quit()"
   ]
  }
 ],
 "metadata": {
  "kernelspec": {
   "display_name": "Python 3",
   "language": "python",
   "name": "python3"
  },
  "language_info": {
   "codemirror_mode": {
    "name": "ipython",
    "version": 3
   },
   "file_extension": ".py",
   "mimetype": "text/x-python",
   "name": "python",
   "nbconvert_exporter": "python",
   "pygments_lexer": "ipython3",
   "version": "3.11.5"
  }
 },
 "nbformat": 4,
 "nbformat_minor": 5
}
