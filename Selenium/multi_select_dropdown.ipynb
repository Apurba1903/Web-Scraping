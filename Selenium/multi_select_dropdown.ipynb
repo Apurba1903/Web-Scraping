{
 "cells": [
  {
   "cell_type": "code",
   "execution_count": 1,
   "id": "354281a7",
   "metadata": {},
   "outputs": [],
   "source": [
    "import time\n",
    "from selenium import webdriver\n",
    "import undetected_chromedriver as uc\n",
    "from selenium.webdriver.common.by import By\n",
    "from selenium.webdriver.common.keys import Keys\n",
    "from selenium.webdriver.support.select import Select"
   ]
  },
  {
   "cell_type": "code",
   "execution_count": 2,
   "id": "93b5e828",
   "metadata": {},
   "outputs": [],
   "source": [
    "driver =  webdriver.Chrome()\n",
    "driver.maximize_window()"
   ]
  },
  {
   "cell_type": "code",
   "execution_count": 3,
   "id": "26039654",
   "metadata": {},
   "outputs": [],
   "source": [
    "url = \"https://demoqa.com/select-menu\"\n",
    "driver.get(url)\n",
    "time.sleep(2)"
   ]
  },
  {
   "cell_type": "code",
   "execution_count": null,
   "id": "da26434b",
   "metadata": {},
   "outputs": [],
   "source": [
    "cars_element = driver.find_element(By.XPATH, '//*[@id=\"cars\"]')\n",
    "\n",
    "cars_ms = Select(cars_element)\n",
    "time.sleep(2)"
   ]
  },
  {
   "cell_type": "code",
   "execution_count": 5,
   "id": "c5f9c6b6",
   "metadata": {},
   "outputs": [],
   "source": [
    "cars_ms.select_by_index(1)\n",
    "time.sleep(1)"
   ]
  },
  {
   "cell_type": "code",
   "execution_count": 6,
   "id": "19ebc239",
   "metadata": {},
   "outputs": [],
   "source": [
    "cars_ms.select_by_visible_text(\"Opel\")\n",
    "time.sleep(1)"
   ]
  },
  {
   "cell_type": "code",
   "execution_count": 7,
   "id": "eb949a9d",
   "metadata": {},
   "outputs": [],
   "source": [
    "cars_ms.select_by_visible_text(\"Audi\")\n",
    "time.sleep(1)"
   ]
  },
  {
   "cell_type": "code",
   "execution_count": 8,
   "id": "7d080077",
   "metadata": {},
   "outputs": [],
   "source": [
    "cars_ms.deselect_by_index(2)\n",
    "time.sleep(1)"
   ]
  },
  {
   "cell_type": "code",
   "execution_count": 9,
   "id": "ae6ef187",
   "metadata": {},
   "outputs": [],
   "source": [
    "cars_ms.deselect_all()\n",
    "time.sleep(1)"
   ]
  },
  {
   "cell_type": "code",
   "execution_count": 10,
   "id": "5e58336c",
   "metadata": {},
   "outputs": [],
   "source": [
    "driver.quit()"
   ]
  }
 ],
 "metadata": {
  "kernelspec": {
   "display_name": "Python 3",
   "language": "python",
   "name": "python3"
  },
  "language_info": {
   "codemirror_mode": {
    "name": "ipython",
    "version": 3
   },
   "file_extension": ".py",
   "mimetype": "text/x-python",
   "name": "python",
   "nbconvert_exporter": "python",
   "pygments_lexer": "ipython3",
   "version": "3.11.5"
  }
 },
 "nbformat": 4,
 "nbformat_minor": 5
}
