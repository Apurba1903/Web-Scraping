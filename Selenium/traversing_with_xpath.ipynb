{
 "cells": [
  {
   "cell_type": "markdown",
   "id": "8263ab06",
   "metadata": {},
   "source": [
    "#### Traversing in Website"
   ]
  },
  {
   "cell_type": "code",
   "execution_count": 107,
   "id": "d085ec10",
   "metadata": {},
   "outputs": [],
   "source": [
    "import time\n",
    "from selenium import webdriver\n",
    "import undetected_chromedriver as uc\n",
    "from selenium.webdriver.common.by import By\n",
    "from selenium.webdriver.common.keys import Keys"
   ]
  },
  {
   "cell_type": "code",
   "execution_count": 108,
   "id": "a104167e",
   "metadata": {},
   "outputs": [],
   "source": [
    "driver = uc.Chrome()\n",
    "driver.maximize_window()"
   ]
  },
  {
   "cell_type": "code",
   "execution_count": 109,
   "id": "e5ff5f23",
   "metadata": {},
   "outputs": [],
   "source": [
    "url = \"https://www.google.com\"\n",
    "driver.get(url)\n",
    "time.sleep(3)"
   ]
  },
  {
   "cell_type": "code",
   "execution_count": 110,
   "id": "29845c31",
   "metadata": {},
   "outputs": [],
   "source": [
    "search_bar_xpath = '//*[@id=\"APjFqb\"]'\n",
    "search_bar = driver.find_element(by = By.XPATH, value = search_bar_xpath)"
   ]
  },
  {
   "cell_type": "code",
   "execution_count": 111,
   "id": "614dac50",
   "metadata": {},
   "outputs": [],
   "source": [
    "# Enter Input\n",
    "\n",
    "search_bar.clear()\n",
    "time.sleep(2) \n",
    "\n",
    "search_bar.send_keys(\"Machine Learning\")\n",
    "time.sleep(2)"
   ]
  },
  {
   "cell_type": "code",
   "execution_count": 112,
   "id": "bff35889",
   "metadata": {},
   "outputs": [],
   "source": [
    "# Hitting Enter Button\n",
    "\n",
    "search_bar.send_keys(Keys.ENTER)\n",
    "time.sleep(2)"
   ]
  },
  {
   "cell_type": "code",
   "execution_count": 113,
   "id": "91baf6eb",
   "metadata": {},
   "outputs": [],
   "source": [
    "# Clicking A Button\n",
    "\n",
    "link_xpath = '//*[@id=\"rso\"]/div[4]/div/div/div[1]/div/div[2]/div/div/span/a/h3'\n",
    "link = driver.find_element(By.XPATH, link_xpath)\n",
    "\n",
    "link.click()\n",
    "time.sleep(2)"
   ]
  },
  {
   "cell_type": "code",
   "execution_count": 114,
   "id": "ed9720a0",
   "metadata": {},
   "outputs": [],
   "source": [
    "driver.quit()"
   ]
  },
  {
   "cell_type": "markdown",
   "id": "61bda507",
   "metadata": {},
   "source": [
    "#### Submitting a Form"
   ]
  },
  {
   "cell_type": "code",
   "execution_count": 115,
   "id": "d4a1ee87",
   "metadata": {},
   "outputs": [],
   "source": [
    "driver = uc.Chrome()\n",
    "driver.maximize_window()"
   ]
  },
  {
   "cell_type": "code",
   "execution_count": 116,
   "id": "06a42585",
   "metadata": {},
   "outputs": [],
   "source": [
    "url = \"https://github.com/login\"\n",
    "driver.get(url)\n",
    "time.sleep(3)"
   ]
  },
  {
   "cell_type": "code",
   "execution_count": 117,
   "id": "72be0864",
   "metadata": {},
   "outputs": [],
   "source": [
    "login_xpath = '//*[@id=\"login_field\"]'\n",
    "login_field = driver.find_element(By.XPATH, login_xpath)\n",
    "login_field.send_keys('1234')\n",
    "time.sleep(1)\n",
    "\n",
    "\n",
    "pass_xpath = '//*[@id=\"password\"]'\n",
    "pass_field = driver.find_element(By.XPATH, pass_xpath)\n",
    "pass_field.send_keys('pass1234')\n",
    "time.sleep(1)"
   ]
  },
  {
   "cell_type": "code",
   "execution_count": 118,
   "id": "5e775f69",
   "metadata": {},
   "outputs": [],
   "source": [
    "submit_btn = '//*[@id=\"login\"]/div[4]/form/div/input[13]'\n",
    "clk_btn = driver.find_element(By.XPATH, submit_btn)\n",
    "clk_btn.click()"
   ]
  },
  {
   "cell_type": "code",
   "execution_count": 119,
   "id": "c291c5e2",
   "metadata": {},
   "outputs": [],
   "source": [
    "driver.quit()"
   ]
  }
 ],
 "metadata": {
  "kernelspec": {
   "display_name": "Python 3",
   "language": "python",
   "name": "python3"
  },
  "language_info": {
   "codemirror_mode": {
    "name": "ipython",
    "version": 3
   },
   "file_extension": ".py",
   "mimetype": "text/x-python",
   "name": "python",
   "nbconvert_exporter": "python",
   "pygments_lexer": "ipython3",
   "version": "3.11.5"
  }
 },
 "nbformat": 4,
 "nbformat_minor": 5
}
