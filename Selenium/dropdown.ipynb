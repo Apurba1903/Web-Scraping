{
 "cells": [
  {
   "cell_type": "code",
   "execution_count": 24,
   "id": "dc8e6bf2",
   "metadata": {},
   "outputs": [],
   "source": [
    "import time\n",
    "from selenium import webdriver\n",
    "import undetected_chromedriver as uc\n",
    "from selenium.webdriver.common.by import By\n",
    "from selenium.webdriver.common.keys import Keys\n",
    "from selenium.webdriver.support.select import Select"
   ]
  },
  {
   "cell_type": "code",
   "execution_count": 25,
   "id": "f0837660",
   "metadata": {},
   "outputs": [],
   "source": [
    "driver = uc.Chrome()\n",
    "driver.maximize_window()"
   ]
  },
  {
   "cell_type": "code",
   "execution_count": 26,
   "id": "b0c348f5",
   "metadata": {},
   "outputs": [],
   "source": [
    "url = \"https://www.miniclip.com/careers/vacancies\"\n",
    "driver.get(url)\n",
    "time.sleep(3)"
   ]
  },
  {
   "cell_type": "code",
   "execution_count": 27,
   "id": "858d9952",
   "metadata": {},
   "outputs": [],
   "source": [
    "dept_field = driver.find_element(By.XPATH, '//*[@id=\"__layout\"]/div/div/section[2]/div/fieldset[3]/select')\n",
    "dept_dropdown = Select(dept_field)\n",
    "time.sleep(2)"
   ]
  },
  {
   "cell_type": "code",
   "execution_count": null,
   "id": "75e088a2",
   "metadata": {},
   "outputs": [],
   "source": [
    "# Selecting by Index Number\n",
    "\n",
    "dept_dropdown.select_by_index(4)\n",
    "time.sleep(2)"
   ]
  },
  {
   "cell_type": "code",
   "execution_count": null,
   "id": "0fd14a70",
   "metadata": {},
   "outputs": [],
   "source": [
    "# Selecting by Index Value\n",
    "\n",
    "dept_dropdown.select_by_visible_text(\"IT\")"
   ]
  },
  {
   "cell_type": "code",
   "execution_count": null,
   "id": "a3ca0b12",
   "metadata": {},
   "outputs": [],
   "source": []
  },
  {
   "cell_type": "code",
   "execution_count": null,
   "id": "0b1e0523",
   "metadata": {},
   "outputs": [],
   "source": []
  },
  {
   "cell_type": "code",
   "execution_count": null,
   "id": "378fc746",
   "metadata": {},
   "outputs": [],
   "source": []
  },
  {
   "cell_type": "code",
   "execution_count": null,
   "id": "80a5ab82",
   "metadata": {},
   "outputs": [],
   "source": []
  }
 ],
 "metadata": {
  "kernelspec": {
   "display_name": "Python 3",
   "language": "python",
   "name": "python3"
  },
  "language_info": {
   "codemirror_mode": {
    "name": "ipython",
    "version": 3
   },
   "file_extension": ".py",
   "mimetype": "text/x-python",
   "name": "python",
   "nbconvert_exporter": "python",
   "pygments_lexer": "ipython3",
   "version": "3.11.5"
  }
 },
 "nbformat": 4,
 "nbformat_minor": 5
}
