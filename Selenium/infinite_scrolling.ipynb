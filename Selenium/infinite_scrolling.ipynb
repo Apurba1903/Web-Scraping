{
 "cells": [
  {
   "cell_type": "code",
   "execution_count": 14,
   "id": "bebef967",
   "metadata": {},
   "outputs": [],
   "source": [
    "import time\n",
    "from selenium import webdriver\n",
    "from selenium.webdriver.common.by import By"
   ]
  },
  {
   "cell_type": "code",
   "execution_count": 15,
   "id": "599c983c",
   "metadata": {},
   "outputs": [],
   "source": [
    "driver = webdriver.Chrome()\n",
    "driver.maximize_window()"
   ]
  },
  {
   "cell_type": "code",
   "execution_count": 16,
   "id": "24c6abc9",
   "metadata": {},
   "outputs": [],
   "source": [
    "url = \"https://www.google.com/search?sca_esv=50305bf398918de1&q=FC+Barcelona&udm=2&fbs=ABzOT_CRGLDB3MgDN8Guzy7Jf4jWhlZtd7mbqoLicqbTx9E8s1xPTAZr6v9bKXTbaS4qFbu_czihqzqlEUq2BLiGTJYwhI6fydmWCyWTYfQ4LW0omN_znqrINGmcB9XYhyGs0iaB8jmPNTJFZ1IhWgK3_pTc4WAeoSXQCMHLE0nPZp5ZYEWjNBw_BjkQwOiR9sF5VwblBYWt1T9_mc6GNdb4C8JPUUhz-_zClFli6cdye9iHMXEf--Zyecj1m0DtNsP2nkijTvkf&sa=X&ved=2ahUKEwjIpsf7x-OMAxUW2TgGHaTYCAUQtKgLegQIDxAB&biw=1536&bih=678&dpr=1.25\"\n",
    "\n",
    "driver.get(url)\n",
    "time.sleep(2)"
   ]
  },
  {
   "cell_type": "code",
   "execution_count": 17,
   "id": "35736bd6",
   "metadata": {},
   "outputs": [
    {
     "name": "stdout",
     "output_type": "stream",
     "text": [
      "WebPage Height : 5,161 Pixels\n",
      "WebPage Height : 9,873 Pixels\n",
      "WebPage Height : 14,678 Pixels\n",
      "WebPage Height : 19,142 Pixels\n",
      "WebPage Height : 24,102 Pixels\n",
      "WebPage Height : 28,175 Pixels\n"
     ]
    }
   ],
   "source": [
    "prev_height = driver.execute_script(\"return document.body.scrollHeight\")\n",
    "while True:\n",
    "    \n",
    "    print(f\"WebPage Height : {prev_height:,} Pixels\")\n",
    "    \n",
    "    driver.execute_script(\"window.scrollTo(0, document.body.scrollHeight);\")\n",
    "    time.sleep(5)\n",
    "    \n",
    "    new_height = driver.execute_script(\"return document.body.scrollHeight\")\n",
    "    \n",
    "    if prev_height == new_height:\n",
    "        break\n",
    "    \n",
    "    prev_height = new_height"
   ]
  }
 ],
 "metadata": {
  "kernelspec": {
   "display_name": "Python 3",
   "language": "python",
   "name": "python3"
  },
  "language_info": {
   "codemirror_mode": {
    "name": "ipython",
    "version": 3
   },
   "file_extension": ".py",
   "mimetype": "text/x-python",
   "name": "python",
   "nbconvert_exporter": "python",
   "pygments_lexer": "ipython3",
   "version": "3.11.5"
  }
 },
 "nbformat": 4,
 "nbformat_minor": 5
}
