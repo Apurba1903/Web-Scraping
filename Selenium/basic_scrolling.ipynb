{
 "cells": [
  {
   "cell_type": "code",
   "execution_count": 52,
   "id": "4f1c5868",
   "metadata": {},
   "outputs": [],
   "source": [
    "import time\n",
    "from selenium import webdriver\n",
    "from selenium.webdriver.common.by import By"
   ]
  },
  {
   "cell_type": "code",
   "execution_count": 53,
   "id": "a12a2da2",
   "metadata": {},
   "outputs": [],
   "source": [
    "driver = webdriver.Chrome()\n",
    "driver.maximize_window()"
   ]
  },
  {
   "cell_type": "code",
   "execution_count": 54,
   "id": "ae81734c",
   "metadata": {},
   "outputs": [],
   "source": [
    "url = \"https://en.wikipedia.org/wiki/Machine_learning\"\n",
    "driver.get(url)\n",
    "time.sleep(2)\n"
   ]
  },
  {
   "cell_type": "code",
   "execution_count": null,
   "id": "fb403be5",
   "metadata": {},
   "outputs": [],
   "source": [
    "# Scrolling by Element\n",
    "\n",
    "ai_xpath = '//*[@id=\"Artificial_intelligence\"]'\n",
    "ai_subtopic = driver.find_element(By.XPATH, ai_xpath)\n",
    "driver.execute_script(\"arguments[0].scrollIntoView();\", ai_subtopic)"
   ]
  },
  {
   "cell_type": "code",
   "execution_count": null,
   "id": "60ffc0a8",
   "metadata": {},
   "outputs": [],
   "source": [
    "# Scrolling Vertically\n",
    "\n",
    "driver.execute_script(\"window.scrollBy(0, 1000);\")\n",
    "time.sleep(3)\n",
    "driver.execute_script(\"window.scrollBy(0, -500);\")"
   ]
  },
  {
   "cell_type": "code",
   "execution_count": null,
   "id": "38638192",
   "metadata": {},
   "outputs": [],
   "source": [
    "# Scrolling Horizontally\n",
    "\n",
    "driver.execute_script(\"window.scrollBy(1000, 0);\")\n",
    "time.sleep(3)\n",
    "driver.execute_script(\"window.scrollBy(-500, 0);\")"
   ]
  },
  {
   "cell_type": "code",
   "execution_count": 58,
   "id": "b343597f",
   "metadata": {},
   "outputs": [],
   "source": [
    "# Scrolling by Page Height\n",
    "\n",
    "driver.execute_script(\"window.scrollTo(0, document.body.scrollHeight);\")\n",
    "time.sleep(2)\n",
    "driver.execute_script(\"window.scrollTo(0, -document.body.scrollHeight);\")"
   ]
  }
 ],
 "metadata": {
  "kernelspec": {
   "display_name": "Python 3",
   "language": "python",
   "name": "python3"
  },
  "language_info": {
   "codemirror_mode": {
    "name": "ipython",
    "version": 3
   },
   "file_extension": ".py",
   "mimetype": "text/x-python",
   "name": "python",
   "nbconvert_exporter": "python",
   "pygments_lexer": "ipython3",
   "version": "3.11.5"
  }
 },
 "nbformat": 4,
 "nbformat_minor": 5
}
