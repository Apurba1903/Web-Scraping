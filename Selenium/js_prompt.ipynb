{
 "cells": [
  {
   "cell_type": "code",
   "execution_count": 21,
   "id": "b451f759",
   "metadata": {},
   "outputs": [],
   "source": [
    "import time\n",
    "from selenium import webdriver\n",
    "from selenium.webdriver.common.by import By"
   ]
  },
  {
   "cell_type": "code",
   "execution_count": 22,
   "id": "e82e6b9f",
   "metadata": {},
   "outputs": [],
   "source": [
    "driver = webdriver.Chrome()\n",
    "driver.maximize_window()"
   ]
  },
  {
   "cell_type": "code",
   "execution_count": 23,
   "id": "0ac7d04e",
   "metadata": {},
   "outputs": [],
   "source": [
    "url = \"https://www.w3schools.com/JS/tryit.asp?filename=tryjs_prompt\"\n",
    "driver.get(url)\n",
    "time.sleep(2)"
   ]
  },
  {
   "cell_type": "code",
   "execution_count": 24,
   "id": "8a6541c4",
   "metadata": {},
   "outputs": [],
   "source": [
    "iframe_element = driver.find_element(By.ID, \"iframeResult\")\n",
    "driver.switch_to.frame(iframe_element)"
   ]
  },
  {
   "cell_type": "code",
   "execution_count": 25,
   "id": "8170d8b5",
   "metadata": {},
   "outputs": [],
   "source": [
    "button = driver.find_element(By.XPATH, \"/html/body/button\")\n",
    "button.click()"
   ]
  },
  {
   "cell_type": "code",
   "execution_count": 26,
   "id": "b4a50f44",
   "metadata": {},
   "outputs": [
    {
     "name": "stdout",
     "output_type": "stream",
     "text": [
      "Alert Text: Please enter your name:\n"
     ]
    }
   ],
   "source": [
    "print(f\"Alert Text: {driver.switch_to.alert.text}\")"
   ]
  },
  {
   "cell_type": "code",
   "execution_count": 27,
   "id": "0381c211",
   "metadata": {},
   "outputs": [
    {
     "name": "stdout",
     "output_type": "stream",
     "text": [
      "\n",
      "You clicked Accept!\n"
     ]
    }
   ],
   "source": [
    "driver.switch_to.alert.send_keys(\"Apurba Halder\")\n",
    "driver.switch_to.alert.accept()\n",
    "print(\"\\nYou clicked Accept!\")\n",
    "time.sleep(1)"
   ]
  },
  {
   "cell_type": "code",
   "execution_count": 28,
   "id": "8057f7c0",
   "metadata": {},
   "outputs": [],
   "source": [
    "# driver.switch_to.alert.dismiss()\n",
    "# print(\"\\nYou clicked Cancel!\")\n",
    "# time.sleep(1)"
   ]
  },
  {
   "cell_type": "code",
   "execution_count": 29,
   "id": "b9cc7c4a",
   "metadata": {},
   "outputs": [],
   "source": [
    "driver.switch_to.default_content()"
   ]
  },
  {
   "cell_type": "code",
   "execution_count": 30,
   "id": "20907796",
   "metadata": {},
   "outputs": [],
   "source": [
    "driver.quit()"
   ]
  }
 ],
 "metadata": {
  "kernelspec": {
   "display_name": "Python 3",
   "language": "python",
   "name": "python3"
  },
  "language_info": {
   "codemirror_mode": {
    "name": "ipython",
    "version": 3
   },
   "file_extension": ".py",
   "mimetype": "text/x-python",
   "name": "python",
   "nbconvert_exporter": "python",
   "pygments_lexer": "ipython3",
   "version": "3.11.5"
  }
 },
 "nbformat": 4,
 "nbformat_minor": 5
}
