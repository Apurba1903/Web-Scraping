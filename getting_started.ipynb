{
 "cells": [
  {
   "cell_type": "markdown",
   "id": "f47749b8",
   "metadata": {},
   "source": [
    "#### Importing Packages"
   ]
  },
  {
   "cell_type": "code",
   "execution_count": 26,
   "id": "fcb4a64b",
   "metadata": {},
   "outputs": [],
   "source": [
    "from selenium import webdriver\n",
    "import time"
   ]
  },
  {
   "cell_type": "markdown",
   "id": "139068d4",
   "metadata": {},
   "source": [
    "#### Opening Chrome and Maximizing Windows"
   ]
  },
  {
   "cell_type": "code",
   "execution_count": 27,
   "id": "d2f4cb48",
   "metadata": {},
   "outputs": [],
   "source": [
    "driver = webdriver.Chrome()\n",
    "driver.maximize_window()"
   ]
  },
  {
   "cell_type": "markdown",
   "id": "8b55614d",
   "metadata": {},
   "source": [
    "#### Opening A URL On Chrome"
   ]
  },
  {
   "cell_type": "code",
   "execution_count": 28,
   "id": "75a79dfa",
   "metadata": {},
   "outputs": [],
   "source": [
    "url = \"https://www.google.com\"\n",
    "driver.get(url)"
   ]
  },
  {
   "cell_type": "markdown",
   "id": "42bef71a",
   "metadata": {},
   "source": [
    "#### Printing Metadata"
   ]
  },
  {
   "cell_type": "code",
   "execution_count": 29,
   "id": "34faa8f5",
   "metadata": {},
   "outputs": [
    {
     "name": "stdout",
     "output_type": "stream",
     "text": [
      "Title: Google\n",
      "Current URL: https://www.google.com/\n"
     ]
    }
   ],
   "source": [
    "print(f\"Title: {driver.title}\")\n",
    "print(f\"Current URL: {driver.current_url}\")"
   ]
  },
  {
   "cell_type": "markdown",
   "id": "26ac7a9b",
   "metadata": {},
   "source": [
    "#### Taking a ScreenShot"
   ]
  },
  {
   "cell_type": "code",
   "execution_count": 30,
   "id": "15d02e1c",
   "metadata": {},
   "outputs": [
    {
     "name": "stdout",
     "output_type": "stream",
     "text": [
      "\n",
      "ScreenShot Taken\n"
     ]
    }
   ],
   "source": [
    "driver.save_screenshot(\"Google.PNG\")\n",
    "print(\"\\nScreenShot Taken\")"
   ]
  },
  {
   "cell_type": "markdown",
   "id": "00b9a147",
   "metadata": {},
   "source": [
    "#### Closing Browser"
   ]
  },
  {
   "cell_type": "code",
   "execution_count": 31,
   "id": "c5b263e8",
   "metadata": {},
   "outputs": [],
   "source": [
    "time.sleep(3)\n",
    "driver.quit()"
   ]
  }
 ],
 "metadata": {
  "kernelspec": {
   "display_name": "Python 3",
   "language": "python",
   "name": "python3"
  },
  "language_info": {
   "codemirror_mode": {
    "name": "ipython",
    "version": 3
   },
   "file_extension": ".py",
   "mimetype": "text/x-python",
   "name": "python",
   "nbconvert_exporter": "python",
   "pygments_lexer": "ipython3",
   "version": "3.11.5"
  }
 },
 "nbformat": 4,
 "nbformat_minor": 5
}
